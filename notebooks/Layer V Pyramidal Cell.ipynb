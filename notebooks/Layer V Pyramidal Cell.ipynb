{
 "cells": [
  {
   "cell_type": "code",
   "execution_count": 1,
   "metadata": {
    "pycharm": {
     "is_executing": false
    }
   },
   "outputs": [],
   "source": [
    "from cells.layer_v import SPI6\n",
    "from neuron import h, gui\n",
    "from helpers.record import *\n",
    "import copy"
   ]
  },
  {
   "cell_type": "markdown",
   "metadata": {},
   "source": [
    "# Model Creation\n",
    "\n",
    "### 1. Generate model according to the Layout specified in cells\n",
    "\n",
    "So far the Model is consistently the same as the Model provided by Neomytin et al (2017)\n",
    "No AIS Inclusion yet. Parameters should workas expected"
   ]
  },
  {
   "cell_type": "code",
   "execution_count": 2,
   "metadata": {
    "collapsed": false,
    "jupyter": {
     "outputs_hidden": false
    },
    "pycharm": {
     "is_executing": false,
     "name": "#%%\n"
    }
   },
   "outputs": [],
   "source": [
    "cell = SPI6()\n",
    "\n",
    "\n"
   ]
  },
  {
   "cell_type": "markdown",
   "metadata": {},
   "source": [
    "### 2. Generate an AlphaSynapse at the Cell Soma\n",
    "\n",
    "Record at the same spot"
   ]
  },
  {
   "cell_type": "code",
   "execution_count": 7,
   "metadata": {
    "collapsed": false,
    "jupyter": {
     "outputs_hidden": false
    },
    "pycharm": {
     "is_executing": false,
     "name": "#%%\n"
    }
   },
   "outputs": [
    {
     "data": {
      "text/plain": [
       "0.0"
      ]
     },
     "execution_count": 7,
     "metadata": {},
     "output_type": "execute_result"
    }
   ],
   "source": [
    "asyn = h.AlphaSynapse(cell.soma(0.5))\n",
    "asyn.onset = 20\n",
    "asyn.gmax = 1\n",
    "\n",
    "asyn1 = h.AlphaSynapse(cell.soma(0.5))\n",
    "asyn1.onset = 40\n",
    "asyn1.gmax = 1\n",
    "\n",
    "v_vec = h.Vector()             # Membrane potential vector\n",
    "t_vec = h.Vector()             # Time stamp vector\n",
    "v_vec.record(cell.soma(0.5)._ref_v)\n",
    "t_vec.record(h._ref_t)\n",
    "\n",
    "h.tstop = 300.0\n",
    "h.run()"
   ]
  },
  {
   "cell_type": "markdown",
   "metadata": {},
   "source": [
    "# Plot Output of the Stimulation\n",
    "\n",
    "It uses the standard properties of the NEURON Simulation, should be adapted to your spatial and time-resolution\n"
   ]
  },
  {
   "cell_type": "code",
   "execution_count": 8,
   "metadata": {
    "collapsed": false,
    "jupyter": {
     "outputs_hidden": false
    },
    "pycharm": {
     "is_executing": false,
     "name": "#%%\n"
    }
   },
   "outputs": [
    {
     "data": {
      "image/png": "[encoded data removed]",
      "text/plain": [
       "<Figure size 576x288 with 1 Axes>"
      ]
     },
     "metadata": {
      "needs_background": "light"
     },
     "output_type": "display_data"
    }
   ],
   "source": [
    "from matplotlib import pyplot\n",
    "pyplot.figure(figsize=(8,4)) # Default figsize is (8,6)\n",
    "pyplot.plot(t_vec, v_vec)\n",
    "pyplot.xlabel('time (ms)')\n",
    "pyplot.ylabel('mV')\n",
    "pyplot.show()\n",
    "\n"
   ]
  }
 ],
 "metadata": {
  "kernelspec": {
   "display_name": "Python 3",
   "language": "python",
   "name": "python3"
  },
  "language_info": {
   "codemirror_mode": {
    "name": "ipython",
    "version": 3
   },
   "file_extension": ".py",
   "mimetype": "text/x-python",
   "name": "python",
   "nbconvert_exporter": "python",
   "pygments_lexer": "ipython3",
   "version": "3.7.3"
  },
  "pycharm": {
   "stem_cell": {
    "cell_type": "raw",
    "metadata": {
     "collapsed": false
    },
    "source": []
   }
  }
 },
 "nbformat": 4,
 "nbformat_minor": 4
}
