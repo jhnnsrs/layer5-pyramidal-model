{
 "cells": [
  {
   "cell_type": "code",
   "execution_count": 1,
   "metadata": {},
   "outputs": [],
   "source": [
    "from cells import layer_v_with_ais_test \n",
    "from neuron import h, gui\n",
    "from helpers.record import *\n",
    "import numpy as np\n",
    "import copy\n",
    "from importlib import reload\n",
    "\n",
    "reload(layer_v_with_ais_test )\n",
    "cell = layer_v_with_ais_test.SPI6()"
   ]
  },
  {
   "cell_type": "markdown",
   "metadata": {},
   "source": [
    "## Calculate the Input Resistance\n",
    "\n",
    "The input resistance si calculated by measuring the differences of the maximum voltage in the simutlation window to baseline of a 0 amp stimulus of a stimuli ranging from `i*0.1 in range(0,10)` "
   ]
  },
  {
   "cell_type": "code",
   "execution_count": 2,
   "metadata": {},
   "outputs": [
    {
     "data": {
      "text/plain": [
       "85.81489754460289"
      ]
     },
     "execution_count": 2,
     "metadata": {},
     "output_type": "execute_result"
    }
   ],
   "source": [
    "from helpers.generic import *\n",
    "\n",
    "inputresistances = calculateInputResistance(layer_v_with_ais_test.SPI6)\n",
    "inputresistances.mean()\n",
    "        "
   ]
  },
  {
   "cell_type": "code",
   "execution_count": 3,
   "metadata": {},
   "outputs": [
    {
     "data": {
      "image/png": "[encoded data removed]",
      "text/plain": [
       "<Figure size 432x288 with 1 Axes>"
      ]
     },
     "metadata": {
      "needs_background": "light"
     },
     "output_type": "display_data"
    }
   ],
   "source": [
    "import numpy as np\n",
    "from matplotlib import pyplot \n",
    "\n",
    "fig, axs = pyplot.subplots()\n",
    "axs.boxplot(inputresistances)\n",
    "axs.set_title(\"Mean Input Resistance\")\n",
    "pyplot.show()"
   ]
  }
 ],
 "metadata": {
  "kernelspec": {
   "display_name": "Python 3",
   "language": "python",
   "name": "python3"
  },
  "language_info": {
   "codemirror_mode": {
    "name": "ipython",
    "version": 3
   },
   "file_extension": ".py",
   "mimetype": "text/x-python",
   "name": "python",
   "nbconvert_exporter": "python",
   "pygments_lexer": "ipython3",
   "version": "3.7.3"
  }
 },
 "nbformat": 4,
 "nbformat_minor": 4
}
